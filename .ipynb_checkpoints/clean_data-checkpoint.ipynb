{
 "cells": [
  {
   "cell_type": "code",
   "execution_count": 1,
   "id": "2275a2d4",
   "metadata": {},
   "outputs": [],
   "source": [
    "import pandas as pd\n",
    "import numpy as np"
   ]
  },
  {
   "cell_type": "code",
   "execution_count": 2,
   "id": "0c0d1024",
   "metadata": {},
   "outputs": [
    {
     "data": {
      "text/html": [
       "<div>\n",
       "<style scoped>\n",
       "    .dataframe tbody tr th:only-of-type {\n",
       "        vertical-align: middle;\n",
       "    }\n",
       "\n",
       "    .dataframe tbody tr th {\n",
       "        vertical-align: top;\n",
       "    }\n",
       "\n",
       "    .dataframe thead th {\n",
       "        text-align: right;\n",
       "    }\n",
       "</style>\n",
       "<table border=\"1\" class=\"dataframe\">\n",
       "  <thead>\n",
       "    <tr style=\"text-align: right;\">\n",
       "      <th></th>\n",
       "      <th>First Name</th>\n",
       "      <th>Last Name</th>\n",
       "      <th>Email</th>\n",
       "      <th>Student ID</th>\n",
       "    </tr>\n",
       "  </thead>\n",
       "  <tbody>\n",
       "    <tr>\n",
       "      <th>0</th>\n",
       "      <td>kelvin</td>\n",
       "      <td>mwaka</td>\n",
       "      <td>kelvinmwaka@gmail.com</td>\n",
       "      <td>0</td>\n",
       "    </tr>\n",
       "    <tr>\n",
       "      <th>1</th>\n",
       "      <td>Etuonu</td>\n",
       "      <td>David</td>\n",
       "      <td>davidetuonu12@gmail.com</td>\n",
       "      <td>1</td>\n",
       "    </tr>\n",
       "    <tr>\n",
       "      <th>2</th>\n",
       "      <td>Eric</td>\n",
       "      <td>Kwabena Preko Addo</td>\n",
       "      <td>addoericjnr@gmail.com</td>\n",
       "      <td>2</td>\n",
       "    </tr>\n",
       "    <tr>\n",
       "      <th>3</th>\n",
       "      <td>Emmanuel</td>\n",
       "      <td>Otiti</td>\n",
       "      <td>fammava@gmail.com</td>\n",
       "      <td>3</td>\n",
       "    </tr>\n",
       "    <tr>\n",
       "      <th>4</th>\n",
       "      <td>Chimezie</td>\n",
       "      <td>Ogbuu</td>\n",
       "      <td>ogbuchimezie17@gmail.com</td>\n",
       "      <td>4</td>\n",
       "    </tr>\n",
       "  </tbody>\n",
       "</table>\n",
       "</div>"
      ],
      "text/plain": [
       "  First Name           Last Name                     Email  Student ID\n",
       "0     kelvin               mwaka     kelvinmwaka@gmail.com           0\n",
       "1     Etuonu               David   davidetuonu12@gmail.com           1\n",
       "2       Eric  Kwabena Preko Addo     addoericjnr@gmail.com           2\n",
       "3   Emmanuel               Otiti         fammava@gmail.com           3\n",
       "4   Chimezie               Ogbuu  ogbuchimezie17@gmail.com           4"
      ]
     },
     "execution_count": 2,
     "metadata": {},
     "output_type": "execute_result"
    }
   ],
   "source": [
    "data = pd.read_csv('datas/students.csv')\n",
    "data.head()"
   ]
  },
  {
   "cell_type": "code",
   "execution_count": 3,
   "id": "5f838a62",
   "metadata": {},
   "outputs": [
    {
     "name": "stdout",
     "output_type": "stream",
     "text": [
      "<class 'pandas.core.frame.DataFrame'>\n",
      "RangeIndex: 69 entries, 0 to 68\n",
      "Data columns (total 4 columns):\n",
      " #   Column      Non-Null Count  Dtype \n",
      "---  ------      --------------  ----- \n",
      " 0   First Name  69 non-null     object\n",
      " 1   Last Name   69 non-null     object\n",
      " 2   Email       69 non-null     object\n",
      " 3   Student ID  69 non-null     int64 \n",
      "dtypes: int64(1), object(3)\n",
      "memory usage: 2.3+ KB\n"
     ]
    }
   ],
   "source": [
    "data.info()"
   ]
  },
  {
   "cell_type": "code",
   "execution_count": 5,
   "id": "b3a3cef6",
   "metadata": {},
   "outputs": [],
   "source": [
    "def clean_data(df):\n",
    "    for col in df.columns:\n",
    "        if col in ['First Name', 'Last Name']:\n",
    "            df[col] = df[col].apply(lambda x: x.strip().capitalize())\n",
    "            df.rename(columns={col: col.lower().replace(' ','_')}, inplace=True)\n",
    "        elif col in ['Email']:\n",
    "            df[col] = df[col].str.lower()\n",
    "            df.rename(columns={col: col.lower()}, inplace=True)\n",
    "        else:\n",
    "            df[col] = 0\n",
    "            df.rename(columns={col: 'status'}, inplace=True)\n",
    "    \n",
    "    print('Columns cleaned and Renamed')"
   ]
  },
  {
   "cell_type": "code",
   "execution_count": 6,
   "id": "c165e53c",
   "metadata": {},
   "outputs": [
    {
     "name": "stdout",
     "output_type": "stream",
     "text": [
      "Columns cleaned and Renamed\n"
     ]
    }
   ],
   "source": [
    "clean_data(data)"
   ]
  },
  {
   "cell_type": "code",
   "execution_count": 7,
   "id": "a198d66d",
   "metadata": {},
   "outputs": [
    {
     "data": {
      "text/html": [
       "<div>\n",
       "<style scoped>\n",
       "    .dataframe tbody tr th:only-of-type {\n",
       "        vertical-align: middle;\n",
       "    }\n",
       "\n",
       "    .dataframe tbody tr th {\n",
       "        vertical-align: top;\n",
       "    }\n",
       "\n",
       "    .dataframe thead th {\n",
       "        text-align: right;\n",
       "    }\n",
       "</style>\n",
       "<table border=\"1\" class=\"dataframe\">\n",
       "  <thead>\n",
       "    <tr style=\"text-align: right;\">\n",
       "      <th></th>\n",
       "      <th>first_name</th>\n",
       "      <th>last_name</th>\n",
       "      <th>email</th>\n",
       "      <th>status</th>\n",
       "    </tr>\n",
       "  </thead>\n",
       "  <tbody>\n",
       "    <tr>\n",
       "      <th>0</th>\n",
       "      <td>Kelvin</td>\n",
       "      <td>Mwaka</td>\n",
       "      <td>kelvinmwaka@gmail.com</td>\n",
       "      <td>0</td>\n",
       "    </tr>\n",
       "    <tr>\n",
       "      <th>1</th>\n",
       "      <td>Etuonu</td>\n",
       "      <td>David</td>\n",
       "      <td>davidetuonu12@gmail.com</td>\n",
       "      <td>0</td>\n",
       "    </tr>\n",
       "    <tr>\n",
       "      <th>2</th>\n",
       "      <td>Eric</td>\n",
       "      <td>Kwabena preko addo</td>\n",
       "      <td>addoericjnr@gmail.com</td>\n",
       "      <td>0</td>\n",
       "    </tr>\n",
       "    <tr>\n",
       "      <th>3</th>\n",
       "      <td>Emmanuel</td>\n",
       "      <td>Otiti</td>\n",
       "      <td>fammava@gmail.com</td>\n",
       "      <td>0</td>\n",
       "    </tr>\n",
       "    <tr>\n",
       "      <th>4</th>\n",
       "      <td>Chimezie</td>\n",
       "      <td>Ogbuu</td>\n",
       "      <td>ogbuchimezie17@gmail.com</td>\n",
       "      <td>0</td>\n",
       "    </tr>\n",
       "  </tbody>\n",
       "</table>\n",
       "</div>"
      ],
      "text/plain": [
       "  first_name           last_name                     email  status\n",
       "0     Kelvin               Mwaka     kelvinmwaka@gmail.com       0\n",
       "1     Etuonu               David   davidetuonu12@gmail.com       0\n",
       "2       Eric  Kwabena preko addo     addoericjnr@gmail.com       0\n",
       "3   Emmanuel               Otiti         fammava@gmail.com       0\n",
       "4   Chimezie               Ogbuu  ogbuchimezie17@gmail.com       0"
      ]
     },
     "execution_count": 7,
     "metadata": {},
     "output_type": "execute_result"
    }
   ],
   "source": [
    "data.head()"
   ]
  },
  {
   "cell_type": "code",
   "execution_count": 10,
   "id": "ed426a3f",
   "metadata": {},
   "outputs": [
    {
     "name": "stdout",
     "output_type": "stream",
     "text": [
      "Done!\n"
     ]
    }
   ],
   "source": [
    "data.to_csv('datas/students0.csv', index=False)\n",
    "print('Done!')"
   ]
  }
 ],
 "metadata": {
  "kernelspec": {
   "display_name": "Python 3 (ipykernel)",
   "language": "python",
   "name": "python3"
  },
  "language_info": {
   "codemirror_mode": {
    "name": "ipython",
    "version": 3
   },
   "file_extension": ".py",
   "mimetype": "text/x-python",
   "name": "python",
   "nbconvert_exporter": "python",
   "pygments_lexer": "ipython3",
   "version": "3.8.5"
  }
 },
 "nbformat": 4,
 "nbformat_minor": 5
}
